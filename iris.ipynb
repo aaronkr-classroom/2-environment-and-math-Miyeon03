{
 "cells": [
  {
   "cell_type": "markdown",
   "id": "d272fe1f",
   "metadata": {},
   "source": [
    "Write your own MD content from slide 49."
   ]
  },
  {
   "cell_type": "markdown",
   "id": "9e597caf",
   "metadata": {},
   "source": [
    "# 1. Hello Python\n",
    "name === \"Miyeon\"\n",
    "goals = ['learn ML', 'learn DL', 'deeply learn DL']\n",
    "\n",
    "print(\"Hello,\", name, \"!\")\n",
    "print(\"Hello,\"+name + \"!\")\n",
    "\n",
    "# for(1 starting point; 2 end condition; 4 increment;) { 3 executing code;}\n",
    "for g in goals:\n",
    "    print(\"-\",g)\n",
    "\n",
    "# if - elif - else\n",
    "if \"learn ML\" in goals:\n",
    "    print(\"Let's learn ML!\")"
   ]
  }
 ],
 "metadata": {
  "language_info": {
   "name": "python"
  }
 },
 "nbformat": 4,
 "nbformat_minor": 5
}
